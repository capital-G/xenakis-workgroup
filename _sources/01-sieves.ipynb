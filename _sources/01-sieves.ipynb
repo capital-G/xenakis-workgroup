{
 "cells": [
  {
   "cell_type": "markdown",
   "metadata": {
    "tags": []
   },
   "source": [
    "# Sieve Theory\n",
    "\n",
    "The usage of sieves is first mentioned in {cite}`Xenakis1992` in the chapter *Towards a Metmusic* and this technique is used to construct scales.\n",
    "\n",
    "The chapter starts with a definition for a *tempered chromatic scale* much similiar to the [Peano axioms](https://en.wikipedia.org/wiki/Peano_axioms) in mathematics which serves as axioms on the natural numbers.\n",
    "This scale is not limited to pitch but can also account for parameters such as denisity or intensity.\n",
    "\n",
    "## Congruency\n",
    "\n",
    "Another definition which is important for the contsruction of sieves is [*congruence*](https://en.wikipedia.org/wiki/Modular_arithmetic).\n",
    "\n",
    "```{admonition} Definition\n",
    "Two integers $x$ and $n$ are said to be congruent modulo $m$ when $m$ is a factor of $x-n$.\n",
    "We write this down as $x \\equiv n \\mod m$.\n",
    "```\n",
    "\n",
    "Some examples are\n",
    "\n",
    "$$\n",
    "\\begin{align}\n",
    "4 \\equiv 19 &\\mod 5\\\\\n",
    "13 \\equiv 5 &\\mod 8\\\\\n",
    "14 \\equiv 0 &\\mod 7\n",
    "\\end{align}\n",
    "$$"
   ]
  },
  {
   "cell_type": "code",
   "execution_count": null,
   "metadata": {},
   "outputs": [
    {
     "name": "stdout",
     "output_type": "stream",
     "text": [
      "-> 4"
     ]
    }
   ],
   "source": [
    "19.mod(5)"
   ]
  },
  {
   "cell_type": "code",
   "execution_count": null,
   "metadata": {},
   "outputs": [
    {
     "name": "stdout",
     "output_type": "stream",
     "text": [
      "-> 5"
     ]
    }
   ],
   "source": [
    "13.mod(8)"
   ]
  },
  {
   "cell_type": "code",
   "execution_count": null,
   "metadata": {},
   "outputs": [
    {
     "name": "stdout",
     "output_type": "stream",
     "text": [
      "-> 0"
     ]
    }
   ],
   "source": [
    "14.mod(7)"
   ]
  },
  {
   "cell_type": "markdown",
   "metadata": {},
   "source": [
    "For $m, n, \\in \\mathbb{N}$ every $n$ is mapped to a $i \\in \\mathbb{N}$ which fulfills $i \\mod m$ where $i \\in R = \\lbrace 0, 1, \\dots, m-1 \\rbrace$.\n",
    "We define the set $R$ as the set of *residual classes* and $m_i = \\lbrace n | n \\equiv i \\mod m \\rbrace$.\n",
    "We note that the cardinality of $R$ must not be equal to $m$, e.g. for $x \\in \\mathbb{N}$ the residual class for $x^2 \\mod 6$ is $R = \\lbrace 0, 1, 3, 4 \\rbrace$."
   ]
  },
  {
   "cell_type": "code",
   "execution_count": null,
   "metadata": {},
   "outputs": [
    {
     "name": "stdout",
     "output_type": "stream",
     "text": [
      "-> [ 0, 1, 2, 0, 1, 2, 0, 1, 2, 0, 1, 2, 0 ]"
     ]
    }
   ],
   "source": [
    "(0..12).collect({|i| i.mod(3)})"
   ]
  },
  {
   "cell_type": "code",
   "execution_count": null,
   "metadata": {},
   "outputs": [
    {
     "name": "stdout",
     "output_type": "stream",
     "text": [
      "-> [ 0, 1, 4, 3, 4, 1, 0, 1, 4, 3, 4, 1, 0, 1, 4, 3, 4, 1, 0, 1, 4, 3, 4, 1, 0, 1, 4, 3, 4, 1, 0 ]"
     ]
    }
   ],
   "source": [
    "(0..30).collect({|i| i.pow(2).asInteger.mod(6)})"
   ]
  },
  {
   "cell_type": "markdown",
   "metadata": {},
   "source": [
    "## Scales\n",
    "\n",
    "Xenakis uses a residual class $m_i$ where $m$ is the starting point in the chromatic scale and $i$ is the residual class (or step size).\n",
    "For now lets assume the 12 ET chromatic scale starting from $\\text{C}$ and inspect the example from the book\n",
    "\n",
    "$$\n",
    "\\begin{align}\n",
    "4_0 &= \\lbrace 0, 4, 8 \\rbrace = \\lbrace \\text{C, E, G#} \\rbrace\\\\\n",
    "4_1 &= \\lbrace 1, 5, 9 \\rbrace = \\lbrace \\text{C#, F, A} \\rbrace\\\\\n",
    "4_2 &= \\lbrace 2, 6, 10 \\rbrace = \\lbrace \\text{D, F#, A#} \\rbrace\\\\\n",
    "4_3 &= \\lbrace 3, 7, 11 \\rbrace = \\lbrace \\text{D#, G, B} \\rbrace\\\\\n",
    "\\end{align}\n",
    "$$\n",
    "\n",
    "Note that $4_4 = 4_0$ as this will repeat the same residuals."
   ]
  },
  {
   "cell_type": "code",
   "execution_count": null,
   "metadata": {},
   "outputs": [
    {
     "name": "stdout",
     "output_type": "stream",
     "text": [
      "-> [ [ 0, 4, 8 ], [ 1, 5, 9 ], [ 2, 6, 10 ], [ 3, 7, 11 ] ]"
     ]
    }
   ],
   "source": [
    "(0..3).collect({|i|\n",
    "    (0..11).select({|j|\n",
    "        j.mod(4)==i\n",
    "    });\n",
    "});"
   ]
  },
  {
   "cell_type": "markdown",
   "metadata": {},
   "source": [
    "### Scales and set theory\n",
    "\n",
    "By using [set theory](https://en.wikipedia.org/wiki/Set_theory) we can combine these residual classes to construct a variety of scales.\n",
    "Most important are the terms *union*, *intersection* and *complement* which we will define as follows:\n",
    "\n",
    "```{admonition} Definition\n",
    "Let $A$ and $B$ be sets.\n",
    "\n",
    "* The *union* of the sets $A$ and $B$ (written as $A \\cup B$, Xenakis uses $A \\lor B$) contains all elements from $A$ and $B$, so\n",
    "\n",
    "$$\n",
    "A \\cup B := \\lbrace c | c \\in A \\lor c \\in B  \\rbrace\n",
    "$$\n",
    "\n",
    "* The *intersection* of the sets $A$ and $B$ (written as $A \\cap B$, Xenakis uses $A \\land B$) contains all elements that are both in $A$ and $B$, so\n",
    "\n",
    "$$\n",
    "A \\cap B := \\lbrace c | c \\in A \\land c \\in B \\rbrace\n",
    "$$\n",
    "\n",
    "* The *complement* of a set $A$ (written as $A^c$ or $\\overline{A}$) contains all elements that are not in $A$, so\n",
    "\n",
    "$$\n",
    "\\overline{A} = \\lbrace c | c \\notin A \\rbrace\n",
    "$$\n",
    "```\n",
    "\n",
    "A Venn diagram helps to understand these basic set operations."
   ]
  },
  {
   "cell_type": "markdown",
   "metadata": {},
   "source": [
    "Lets construct 2 scales via residual classes\n",
    "\n",
    "$$\n",
    "\\begin{align}\n",
    "2_0 &= \\lbrace 0, 2, 4, 6, 8, 10 \\rbrace = \\lbrace \\text{C, D, E, F#, G#, A#} \\rbrace\\\\\n",
    "2_1 &= \\lbrace 1, 3, 5, 7, 9, 11 \\rbrace = \\lbrace \\text{C#, D#, F, G, A, B} \\rbrace\n",
    "\\end{align}\n",
    "$$\n",
    "\n",
    "which both are the possible both tone scales in 12ET.\n",
    "\n",
    "* The union $2_0 \\cup 2_1 = \\lbrace \\text{C, C#, D, D#, E, F, F#, G, G#, A, A#, B} \\rbrace$ is simply the 12ET we started with.\n",
    "* The intersection $2_0, \\cap 2_1 = \\emptyset$ is the empty set as both scales do not share any notes.\n",
    "* $\\overline{2_0} = 2_1 = \\lbrace \\text{C#, D#, F, G, A, B} \\rbrace$ as both scales are complementary."
   ]
  },
  {
   "cell_type": "code",
   "execution_count": null,
   "metadata": {},
   "outputs": [
    {
     "name": "stdout",
     "output_type": "stream",
     "text": [
      "Set A: Set[ 8, 4, 0, 2, 6, 10 ] \t Set B: Set[ 1, 3, 5, 9, 7, 11 ]\n",
      "-> Set A: Set[ 8, 4, 0, 2, 6, 10 ] \t Set B: Set[ 1, 3, 5, 9, 7, 11 ]"
     ]
    }
   ],
   "source": [
    "a = (0..11).select({|i| i.mod(2)==0}).asSet;\n",
    "b = (0..11).select({|i| i.mod(2)==1}).asSet;\n",
    "\"Set A: % \\t Set B: %\".format(a, b).postln;"
   ]
  },
  {
   "cell_type": "code",
   "execution_count": null,
   "metadata": {},
   "outputs": [
    {
     "name": "stdout",
     "output_type": "stream",
     "text": [
      "-> [ 0, 1, 2, 3, 4, 5, 6, 7, 8, 9, 10, 11 ]"
     ]
    }
   ],
   "source": [
    "a.union(b).asArray.sort"
   ]
  },
  {
   "cell_type": "code",
   "execution_count": null,
   "metadata": {},
   "outputs": [
    {
     "name": "stdout",
     "output_type": "stream",
     "text": [
      "-> [  ]"
     ]
    }
   ],
   "source": [
    "a.sect(b).asArray.sort"
   ]
  },
  {
   "cell_type": "markdown",
   "metadata": {},
   "source": [
    "On page 196 Xenakis constructs the major scale via\n",
    "\n",
    "$$\n",
    "(\\overline{3_2} \\land 4_0) \\lor (\\overline{3_1} \\land 4_1) \\lor (3_2 \\land 4_2) \\lor (\\overline{3_0} \\land 4_3)\n",
    "$$\n",
    "\n",
    "which we also want to implement in SC.\n",
    "Instead of repeating the aproach from above and repeating the same steps over and over again we will write a function which we will call to generate the appropiate set."
   ]
  },
  {
   "cell_type": "code",
   "execution_count": null,
   "metadata": {},
   "outputs": [
    {
     "name": "stdout",
     "output_type": "stream",
     "text": [
      "-> a Function"
     ]
    }
   ],
   "source": [
    "f = {|i, j, unity=true|\n",
    "    // we go through all 12 tones of our ET chromatic scale\n",
    "    (0..11).select({|k|\n",
    "        // if unity is false we will return the complementary\n",
    "        if(unity, {\n",
    "            k.mod(i)==j;\n",
    "        }, {\n",
    "            k.mod(i)!=j;\n",
    "        });\n",
    "    }).asSet;\n",
    "}"
   ]
  },
  {
   "cell_type": "markdown",
   "metadata": {},
   "source": [
    "Now we can simply use the `sect (&)` and `union (|)` methods of the [`Set`](https://doc.sccode.org/Classes/Set.html) class to construct the major scale."
   ]
  },
  {
   "cell_type": "code",
   "execution_count": null,
   "metadata": {},
   "outputs": [
    {
     "name": "stdout",
     "output_type": "stream",
     "text": [
      "-> Set[ 5, 0, 9, 7, 4, 2, 11 ]"
     ]
    }
   ],
   "source": [
    "x = (f.(3, 2, false) & f.(4, 0)) | (f.(3, 1, false) & f.(4, 1)) | (f.(3, 2) & f.(4, 2)) | (f.(3, 0, false) & f.(4, 3)) "
   ]
  },
  {
   "cell_type": "markdown",
   "metadata": {},
   "source": [
    "After we boot the server we can use a `Pdef` to play back the scale to us."
   ]
  },
  {
   "cell_type": "code",
   "execution_count": null,
   "metadata": {},
   "outputs": [
    {
     "name": "stdout",
     "output_type": "stream",
     "text": [
      "-> localhost"
     ]
    }
   ],
   "source": [
    "s.boot;"
   ]
  },
  {
   "cell_type": "code",
   "execution_count": null,
   "metadata": {},
   "outputs": [
    {
     "name": "stdout",
     "output_type": "stream",
     "text": [
      "-> Ndef('scale')"
     ]
    }
   ],
   "source": [
    "Ndef(\\scale, Pbind(\n",
    "    \\dur, 0.5,\n",
    "    \\note, Pseq(x.asArray.sort, 2)\n",
    ")).play;"
   ]
  },
  {
   "cell_type": "markdown",
   "metadata": {},
   "source": [
    "And indeed it is the major scale.\n",
    "\n",
    "As we now know how to construct scales via sieves we can try out some scales which are not based on the congruence classes of $4$ and $3$ (which are taken for symmetry reasons which allow for transposing the scales easily as discussed in the book) or permuting scales."
   ]
  },
  {
   "cell_type": "code",
   "execution_count": null,
   "metadata": {},
   "outputs": [
    {
     "name": "stdout",
     "output_type": "stream",
     "text": [
      "-> Tdef('scalePlayer')"
     ]
    }
   ],
   "source": [
    "Tdef(\\scalePlayer, {\n",
    "    (0..4).do({|i|\n",
    "        // modify the scale construction\n",
    "        var scale = f.(4, i) | f.(5, 4-i);\n",
    "        scale = scale.asArray.sort;\n",
    "        \n",
    "        [\"scale\", i, scale].postln;\n",
    "        scale.do({|note|\n",
    "            (note: note, dur: 0.125).play;\n",
    "            0.125.wait;\n",
    "        });\n",
    "        0.25.wait;\n",
    "    })\n",
    "}).play;"
   ]
  },
  {
   "cell_type": "markdown",
   "metadata": {},
   "source": [
    "Note that for the exsiting examples we limited ourselves to the 12 ET chromatic scale but the usage of sieves is not limited to this scale.\n",
    "We can construct sieves with any kind of scale that can be expressed as well ordered set of [Ordinals](https://en.wikipedia.org/wiki/Ordinal_number). "
   ]
  }
 ],
 "metadata": {
  "kernelspec": {
   "display_name": "SuperCollider",
   "language": "",
   "name": "sc_kernel"
  },
  "language_info": {
   "file_extension": ".scd",
   "mimetype": "text/x-sclang",
   "name": "smalltalk",
   "pygments_lexer": "supercollider"
  }
 },
 "nbformat": 4,
 "nbformat_minor": 4
}
