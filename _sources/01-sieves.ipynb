{
 "cells": [
  {
   "cell_type": "markdown",
   "metadata": {
    "tags": []
   },
   "source": [
    "# Sieve Theory\n",
    "\n",
    "The usage of sieves is first mentioned in {cite}`Xenakis1992` in the chapter *Towards a Metmusic* and this technique is used to construct scales.\n",
    "\n",
    "The chapter starts with a definition for a *tempered chromatic scale* much similiar to the [Peano axioms](https://en.wikipedia.org/wiki/Peano_axioms) in mathematics which serves as axioms on the natural numbers.\n",
    "This scale is not limited to pitch but can also account for parameters such as denisity or intensity.\n",
    "\n",
    "## Congruency\n",
    "\n",
    "Another definition which is important for the contsruction of sieves is [*congruence*](https://en.wikipedia.org/wiki/Modular_arithmetic).\n",
    "\n",
    "```{admonition} Definition\n",
    "Two integers $x$ and $n$ are said to be congruent modulo $m$ when $m$ is a factor of $x-n$.\n",
    "We write this down as $x \\equiv n \\mod m$.\n",
    "```\n",
    "\n",
    "Some examples are\n",
    "\n",
    "$$\n",
    "\\begin{align}\n",
    "4 \\equiv 19 &\\mod 5\\\\\n",
    "13 \\equiv 5 &\\mod 8\\\\\n",
    "14 \\equiv 0 &\\mod 7\n",
    "\\end{align}\n",
    "$$"
   ]
  },
  {
   "cell_type": "code",
   "execution_count": null,
   "metadata": {},
   "outputs": [
    {
     "name": "stdout",
     "output_type": "stream",
     "text": [
      "-> 4"
     ]
    }
   ],
   "source": [
    "19.mod(5)"
   ]
  },
  {
   "cell_type": "code",
   "execution_count": null,
   "metadata": {},
   "outputs": [
    {
     "name": "stdout",
     "output_type": "stream",
     "text": [
      "-> 5"
     ]
    }
   ],
   "source": [
    "13.mod(8)"
   ]
  },
  {
   "cell_type": "code",
   "execution_count": null,
   "metadata": {},
   "outputs": [
    {
     "name": "stdout",
     "output_type": "stream",
     "text": [
      "-> 0"
     ]
    }
   ],
   "source": [
    "14.mod(7)"
   ]
  },
  {
   "cell_type": "markdown",
   "metadata": {},
   "source": [
    "For $m, n, \\in \\mathbb{N}$ every $n$ is mapped to a $i \\in \\mathbb{N}$ which fulfills $i \\mod m$ where $i \\in R = \\lbrace 0, 1, \\dots, m-1 \\rbrace$.\n",
    "We define the set $R$ as the set of *residual classes* and $m_i = \\lbrace n | n \\equiv i \\mod m \\rbrace$.\n",
    "We note that the cardinality of $R$ must not be equal to $m$, e.g. for $x \\in \\mathbb{N}$ the residual class for $x^2 \\mod 6$ is $R = \\lbrace 0, 1, 3, 4 \\rbrace$."
   ]
  },
  {
   "cell_type": "code",
   "execution_count": null,
   "metadata": {},
   "outputs": [
    {
     "name": "stdout",
     "output_type": "stream",
     "text": [
      "-> [ 0, 1, 2, 0, 1, 2, 0, 1, 2, 0, 1, 2, 0 ]"
     ]
    }
   ],
   "source": [
    "(0..12).collect({|i| i.mod(3)})"
   ]
  },
  {
   "cell_type": "code",
   "execution_count": null,
   "metadata": {},
   "outputs": [
    {
     "name": "stdout",
     "output_type": "stream",
     "text": [
      "-> [ 0, 1, 4, 3, 4, 1, 0, 1, 4, 3, 4, 1, 0, 1, 4, 3, 4, 1, 0, 1, 4, 3, 4, 1, 0, 1, 4, 3, 4, 1, 0 ]"
     ]
    }
   ],
   "source": [
    "(0..30).collect({|i| i.pow(2).asInteger.mod(6)})"
   ]
  },
  {
   "cell_type": "markdown",
   "metadata": {},
   "source": [
    "## Scales\n",
    "\n",
    "Xenakis uses a residual class $m_i$ where $m$ is the starting point in the chromatic scale and $i$ is the residual class (or step size).\n",
    "For now lets assume the 12 ET chromatic scale starting from $\\text{C}$ and inspect the example from the book\n",
    "\n",
    "$$\n",
    "\\begin{align}\n",
    "4_0 &= \\lbrace 0, 4, 8 \\rbrace = \\lbrace \\text{C, E, G#} \\rbrace\\\\\n",
    "4_1 &= \\lbrace 1, 5, 9 \\rbrace = \\lbrace \\text{C#, F, A} \\rbrace\\\\\n",
    "4_2 &= \\lbrace 2, 6, 10 \\rbrace = \\lbrace \\text{D, F#, A#} \\rbrace\\\\\n",
    "4_3 &= \\lbrace 3, 7, 11 \\rbrace = \\lbrace \\text{D#, G, B} \\rbrace\\\\\n",
    "\\end{align}\n",
    "$$\n",
    "\n",
    "Note that $4_4 = 4_0$ as this will repeat the same residuals."
   ]
  },
  {
   "cell_type": "code",
   "execution_count": null,
   "metadata": {},
   "outputs": [
    {
     "name": "stdout",
     "output_type": "stream",
     "text": [
      "-> [ [ 0, 4, 8 ], [ 1, 5, 9 ], [ 2, 6, 10 ], [ 3, 7, 11 ] ]"
     ]
    }
   ],
   "source": [
    "(0..3).collect({|i|\n",
    "    (0..11).select({|j|\n",
    "        j.mod(4)==i\n",
    "    });\n",
    "});"
   ]
  },
  {
   "cell_type": "markdown",
   "metadata": {},
   "source": [
    "### Scales and set theory\n",
    "\n",
    "By using [set theory](https://en.wikipedia.org/wiki/Set_theory) we can combine these residual classes to construct a variety of scales.\n",
    "Most important are the terms *union*, *intersection* and *complement* which we will define as follows:\n",
    "\n",
    "```{admonition} Definition\n",
    "Let $A$ and $B$ be sets.\n",
    "\n",
    "* The *union* of the sets $A$ and $B$ (written as $A \\cup B$) contains all elements from $A$ and $B$, so\n",
    "\n",
    "$$\n",
    "A \\cup B := \\lbrace c | c \\in A \\lor c \\in B  \\rbrace\n",
    "$$\n",
    "\n",
    "* The *intersection* of the sets $A$ and $B$ (written as $A \\cap B$) contains all elements that are both in $A$ and $B$, so\n",
    "\n",
    "$$\n",
    "A \\cap B := \\lbrace c | c \\in A \\land c \\in B \\rbrace\n",
    "$$\n",
    "\n",
    "* The *complement* of a set $A$ (written as $A^c$ or $\\overline{A}$) contains all elements that are not in $A$, so\n",
    "\n",
    "$$\n",
    "\\overline{A} = \\lbrace c | c \\notin A \\rbrace\n",
    "$$\n",
    "```\n",
    "\n",
    "A Venn diagram helps to understand these basic set operations."
   ]
  },
  {
   "cell_type": "markdown",
   "metadata": {},
   "source": [
    "Lets construct 2 scales via residual classes\n",
    "\n",
    "$$\n",
    "\\begin{align}\n",
    "2_0 &= \\lbrace 0, 2, 4, 6, 8, 10 \\rbrace = \\lbrace \\text{C, D, E, F#, G#, A#} \\rbrace\\\\\n",
    "2_1 &= \\lbrace 1, 3, 5, 7, 9, 11 \\rbrace = \\lbrace \\text{C#, D#, F, G, A, B} \\rbrace\n",
    "\\end{align}\n",
    "$$\n",
    "\n",
    "which both are the possible both tone scales in 12ET.\n",
    "\n",
    "* The union $2_0 \\cup 2_1 = \\lbrace \\text{C, C#, D, D#, E, F, F#, G, G#, A, A#, B} \\rbrace$ is simply the 12ET we started with.\n",
    "* The intersection $2_0, \\cap 2_1 = \\emptyset$ is the empty set as both scales do not share any notes.\n",
    "* $\\overline{2_0} = 2_1 = \\lbrace \\text{C#, D#, F, G, A, B} \\rbrace$ as both scales are complementary."
   ]
  },
  {
   "cell_type": "code",
   "execution_count": null,
   "metadata": {},
   "outputs": [
    {
     "name": "stdout",
     "output_type": "stream",
     "text": [
      "Set A: Set[ 8, 4, 0, 2, 6, 10 ] \t Set B: Set[ 1, 3, 5, 9, 7, 11 ]\n",
      "-> Set A: Set[ 8, 4, 0, 2, 6, 10 ] \t Set B: Set[ 1, 3, 5, 9, 7, 11 ]"
     ]
    }
   ],
   "source": [
    "a = (0..11).select({|i| i.mod(2)==0}).asSet;\n",
    "b = (0..11).select({|i| i.mod(2)==1}).asSet;\n",
    "\"Set A: % \\t Set B: %\".format(a, b).postln;"
   ]
  },
  {
   "cell_type": "code",
   "execution_count": null,
   "metadata": {},
   "outputs": [
    {
     "name": "stdout",
     "output_type": "stream",
     "text": [
      "-> [ 0, 1, 2, 3, 4, 5, 6, 7, 8, 9, 10, 11 ]"
     ]
    }
   ],
   "source": [
    "a.union(b).asArray.sort"
   ]
  },
  {
   "cell_type": "code",
   "execution_count": null,
   "metadata": {},
   "outputs": [
    {
     "name": "stdout",
     "output_type": "stream",
     "text": [
      "-> [  ]"
     ]
    }
   ],
   "source": [
    "a.sect(b).asArray.sort"
   ]
  }
 ],
 "metadata": {
  "kernelspec": {
   "display_name": "SuperCollider",
   "language": "",
   "name": "sc_kernel"
  },
  "language_info": {
   "file_extension": ".scd",
   "mimetype": "text/x-sclang",
   "name": "smalltalk",
   "pygments_lexer": "supercollider"
  }
 },
 "nbformat": 4,
 "nbformat_minor": 4
}
